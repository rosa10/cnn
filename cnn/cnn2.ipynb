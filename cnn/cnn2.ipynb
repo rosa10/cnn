{
 "cells": [
  {
   "cell_type": "code",
   "execution_count": 4,
   "metadata": {},
   "outputs": [
    {
     "data": {
      "text/html": [
       "        <script type=\"text/javascript\">\n",
       "        window.PlotlyConfig = {MathJaxConfig: 'local'};\n",
       "        if (window.MathJax && window.MathJax.Hub && window.MathJax.Hub.Config) {window.MathJax.Hub.Config({SVG: {font: \"STIX-Web\"}});}\n",
       "        if (typeof require !== 'undefined') {\n",
       "        require.undef(\"plotly\");\n",
       "        requirejs.config({\n",
       "            paths: {\n",
       "                'plotly': ['https://cdn.plot.ly/plotly-2.14.0.min']\n",
       "            }\n",
       "        });\n",
       "        require(['plotly'], function(Plotly) {\n",
       "            window._Plotly = Plotly;\n",
       "        });\n",
       "        }\n",
       "        </script>\n",
       "        "
      ]
     },
     "metadata": {},
     "output_type": "display_data"
    }
   ],
   "source": [
    "import warnings\n",
    "import numpy as np\n",
    "import pandas as pd\n",
    "import matplotlib.pyplot as plt\n",
    "from keras import optimizers\n",
    "from keras.utils import plot_model\n",
    "from keras.models import Sequential, Model\n",
    "from keras.layers.convolutional import Conv1D, MaxPooling1D\n",
    "from keras.layers import Dense, LSTM, RepeatVector, TimeDistributed, Flatten\n",
    "from sklearn.metrics import mean_squared_error\n",
    "from sklearn.model_selection import train_test_split\n",
    "# import plotly.plotly as py\n",
    "import plotly.graph_objs as go\n",
    "from plotly.offline import init_notebook_mode, iplot\n",
    "import time\n",
    "from time import time_ns\n",
    "%matplotlib inline\n",
    "warnings.filterwarnings(\"ignore\")\n",
    "init_notebook_mode(connected=True)\n",
    "\n",
    "# Set seeds to make the experiment more reproducible.\n",
    "# from tensorflow import set_random_seed\n",
    "from numpy.random import seed\n",
    "# set_random_seed(1)\n",
    "seed(1)\n",
    "scala=1"
   ]
  },
  {
   "cell_type": "code",
   "execution_count": 5,
   "metadata": {},
   "outputs": [],
   "source": [
    "def readTxtToData(data):\n",
    "    columns = ['ntp_time','data_collection_count','block_sequence_length','throughput','num_devices','lower_outlier']\n",
    "    row = {\n",
    "        columns[0]: [],\n",
    "        columns[1]: [],\n",
    "        columns[2]: [],\n",
    "        columns[3]: [],\n",
    "        columns[4]: [],\n",
    "        columns[5]: [],\n",
    "    }\n",
    "    \n",
    "    start1 = time.time()\n",
    "    train_start = time_ns()\n",
    "    #READ FILE A FILE\n",
    "    a_file = open(data, \"r\")\n",
    "    lines = a_file.readlines()\n",
    "    last_xlines = lines[-(9999):]\n",
    "    a_file.close()\n",
    "    #CLOSE FILE\n",
    "    baris = 0\n",
    "    for data in last_xlines:\n",
    "        split = data.split(\";\")\n",
    "        # row['mac'].append(\"08:3A:F2:A9:8D:85\")\n",
    "        start = float(split[1]) + (float(split[2])/1000000)\n",
    "        row['ntp_time'].append(str(start))\n",
    "        baris = baris + 1\n",
    "        row['data_collection_count'].append(baris)\n",
    "        row['block_sequence_length'].append(1)\n",
    "        end = float(split[3]) + (float(split[4])/1000000)\n",
    "        row['throughput'].append(round(float(split[0])/(end-start))/scala )\n",
    "        row['num_devices'].append(1)\n",
    "        row['lower_outlier'].append(False)\n",
    "            \n",
    "    end1 = time.time()\n",
    "    train_end = time_ns()\n",
    "    print(end1-start1)  \n",
    "    df = pd.DataFrame(row, columns=columns)\n",
    "    print (df)\n",
    "    return df"
   ]
  },
  {
   "cell_type": "code",
   "execution_count": 6,
   "metadata": {},
   "outputs": [
    {
     "name": "stdout",
     "output_type": "stream",
     "text": [
      "0.08417153358459473\n",
      "               ntp_time  data_collection_count  block_sequence_length  \\\n",
      "0     1664599947.122157                      1                      1   \n",
      "1      1664599947.73606                      2                      1   \n",
      "2     1664599948.370683                      3                      1   \n",
      "3     1664599948.977481                      4                      1   \n",
      "4     1664599949.691041                      5                      1   \n",
      "...                 ...                    ...                    ...   \n",
      "9994  1664615714.378134                   9995                      1   \n",
      "9995  1664615715.090597                   9996                      1   \n",
      "9996  1664615716.124379                   9997                      1   \n",
      "9997  1664615722.207594                   9998                      1   \n",
      "9998   1664615722.98786                   9999                      1   \n",
      "\n",
      "      throughput  num_devices  lower_outlier  \n",
      "0        57059.0            1          False  \n",
      "1        53989.0            1          False  \n",
      "2        54806.0            1          False  \n",
      "3        47140.0            1          False  \n",
      "4        55727.0            1          False  \n",
      "...          ...          ...            ...  \n",
      "9994     50976.0            1          False  \n",
      "9995     34504.0            1          False  \n",
      "9996      5529.0            1          False  \n",
      "9997     50738.0            1          False  \n",
      "9998     46865.0            1          False  \n",
      "\n",
      "[9999 rows x 6 columns]\n",
      "0.012965679168701172\n",
      "               ntp_time  data_collection_count  block_sequence_length  \\\n",
      "0     1664615723.813231                      1                      1   \n",
      "1     1664615724.646118                      2                      1   \n",
      "2     1664615725.361048                      3                      1   \n",
      "3     1664615726.202141                      4                      1   \n",
      "4     1664615729.429553                      5                      1   \n",
      "...                 ...                    ...                    ...   \n",
      "1415   1664618112.96942                   1416                      1   \n",
      "1416  1664618113.884946                   1417                      1   \n",
      "1417  1664618114.824578                   1418                      1   \n",
      "1418  1664618124.127899                   1419                      1   \n",
      "1419  1664618124.893642                   1420                      1   \n",
      "\n",
      "      throughput  num_devices  lower_outlier  \n",
      "0        47248.0            1          False  \n",
      "1        54175.0            1          False  \n",
      "2        43087.0            1          False  \n",
      "3        10646.0            1          False  \n",
      "4        40755.0            1          False  \n",
      "...          ...          ...            ...  \n",
      "1415     43406.0            1          False  \n",
      "1416     56018.0            1          False  \n",
      "1417      3454.0            1          False  \n",
      "1418     48702.0            1          False  \n",
      "1419     33546.0            1          False  \n",
      "\n",
      "[1420 rows x 6 columns]\n"
     ]
    }
   ],
   "source": [
    "train = readTxtToData('../cnn/10k.txt')\n",
    "test = readTxtToData('../cnn/test.txt')"
   ]
  }
 ],
 "metadata": {
  "kernelspec": {
   "display_name": "Python 3.9.8 64-bit",
   "language": "python",
   "name": "python3"
  },
  "language_info": {
   "codemirror_mode": {
    "name": "ipython",
    "version": 3
   },
   "file_extension": ".py",
   "mimetype": "text/x-python",
   "name": "python",
   "nbconvert_exporter": "python",
   "pygments_lexer": "ipython3",
   "version": "3.9.8"
  },
  "orig_nbformat": 4,
  "vscode": {
   "interpreter": {
    "hash": "b667cebad148e7b094a58ee81f940c685de1dd70a003a9ccdca4a5792431bee5"
   }
  }
 },
 "nbformat": 4,
 "nbformat_minor": 2
}
